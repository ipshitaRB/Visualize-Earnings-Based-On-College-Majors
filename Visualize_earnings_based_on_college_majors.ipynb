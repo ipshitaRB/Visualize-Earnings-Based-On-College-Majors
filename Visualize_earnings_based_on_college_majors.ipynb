{
  "nbformat": 4,
  "nbformat_minor": 0,
  "metadata": {
    "colab": {
      "name": "Visualize_earnings_based_on_college_majors.ipynb",
      "provenance": [],
      "include_colab_link": true
    },
    "kernelspec": {
      "name": "python3",
      "display_name": "Python 3"
    }
  },
  "cells": [
    {
      "cell_type": "markdown",
      "metadata": {
        "id": "view-in-github",
        "colab_type": "text"
      },
      "source": [
        "<a href=\"https://colab.research.google.com/github/ipshitaRB/Visualize-Earnings-Based-On-College-Majors/blob/master/Visualize_earnings_based_on_college_majors.ipynb\" target=\"_parent\"><img src=\"https://colab.research.google.com/assets/colab-badge.svg\" alt=\"Open In Colab\"/></a>"
      ]
    },
    {
      "cell_type": "markdown",
      "metadata": {
        "id": "IzS1Zq2l85tv",
        "colab_type": "text"
      },
      "source": [
        "# Visualize Earnings Based On College Majors\n",
        "\n",
        "\n",
        "I will be working with a dataset on the job outcomes of students who graduated from college between 2010 and 2012. The original data on job outcomes was released by [American Community Survey](https://www.census.gov/programs-surveys/acs/), which conducts surveys and aggregates the data. FiveThirtyEight cleaned the dataset and released it on their [Github repo](https://github.com/fivethirtyeight/data/tree/master/college-majors).\n",
        "\n",
        "\n",
        "\n",
        "Each row in the dataset represents a different major in college and contains information on gender diversity, employment rates, median salaries, and more. Here are some of the columns in the dataset:\n",
        "\n",
        "\n",
        "\n",
        "* Rank - Rank by median earnings (the dataset is ordered by this column).\n",
        "* Major_code - Major code.\n",
        "* Major - Major description.\n",
        "* Major_category - Category of major.\n",
        "* Total - Total number of people with major.\n",
        "* Sample_size - Sample size (unweighted) of full-time.\n",
        "* Men - Male graduates.\n",
        "* Women - Female graduates.\n",
        "* ShareWomen - Women as share of total.\n",
        "* Employed - Number employed.\n",
        "* Median - Median salary of full-time, year-round workers.\n",
        "* Low_wage_jobs - Number in low-wage service jobs.\n",
        "* Full_time - Number employed 35 hours or more.\n",
        "* Part_time - Number employed less than 35 hours.\n",
        "\n",
        "Using visualizations, we can start to explore questions from the dataset like:\n",
        "\n",
        "* Do students in more popular majors make more money?\n",
        " * Using scatter plots\n",
        "* How many majors are predominantly male? Predominantly female?\n",
        " * Using histograms\n",
        "* Which category of majors have the most students?\n",
        "  * Using bar plots\n",
        "\n",
        "\n",
        "\n",
        "\n",
        "\n"
      ]
    }
  ]
}