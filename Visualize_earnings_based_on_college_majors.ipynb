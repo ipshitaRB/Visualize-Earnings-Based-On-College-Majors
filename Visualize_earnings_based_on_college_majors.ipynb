{
  "nbformat": 4,
  "nbformat_minor": 0,
  "metadata": {
    "colab": {
      "name": "Visualize_earnings_based_on_college_majors.ipynb",
      "provenance": [],
      "toc_visible": true,
      "include_colab_link": true
    },
    "kernelspec": {
      "name": "python3",
      "display_name": "Python 3"
    }
  },
  "cells": [
    {
      "cell_type": "markdown",
      "metadata": {
        "id": "view-in-github",
        "colab_type": "text"
      },
      "source": [
        "<a href=\"https://colab.research.google.com/github/ipshitaRB/Visualize-Earnings-Based-On-College-Majors/blob/master/Visualize_earnings_based_on_college_majors.ipynb\" target=\"_parent\"><img src=\"https://colab.research.google.com/assets/colab-badge.svg\" alt=\"Open In Colab\"/></a>"
      ]
    },
    {
      "cell_type": "markdown",
      "metadata": {
        "id": "IzS1Zq2l85tv",
        "colab_type": "text"
      },
      "source": [
        "# Visualize Earnings Based On College Majors\n",
        "\n",
        "\n",
        "I will be working with a dataset on the job outcomes of students who graduated from college between 2010 and 2012. The original data on job outcomes was released by [American Community Survey](https://www.census.gov/programs-surveys/acs/), which conducts surveys and aggregates the data. FiveThirtyEight cleaned the dataset and released it on their [Github repo](https://github.com/fivethirtyeight/data/tree/master/college-majors).\n",
        "\n",
        "\n",
        "\n",
        "Each row in the dataset represents a different major in college and contains information on gender diversity, employment rates, median salaries, and more. Here are some of the columns in the dataset:\n",
        "\n",
        "\n",
        "\n",
        "* Rank - Rank by median earnings (the dataset is ordered by this column).\n",
        "* Major_code - Major code.\n",
        "* Major - Major description.\n",
        "* Major_category - Category of major.\n",
        "* Total - Total number of people with major.\n",
        "* Sample_size - Sample size (unweighted) of full-time.\n",
        "* Men - Male graduates.\n",
        "* Women - Female graduates.\n",
        "* ShareWomen - Women as share of total.\n",
        "* Employed - Number employed.\n",
        "* Median - Median salary of full-time, year-round workers.\n",
        "* Low_wage_jobs - Number in low-wage service jobs.\n",
        "* Full_time - Number employed 35 hours or more.\n",
        "* Part_time - Number employed less than 35 hours.\n",
        "\n",
        "Using visualizations, we can start to explore questions from the dataset like:\n",
        "\n",
        "* Do students in more popular majors make more money?\n",
        " * Using scatter plots\n",
        "* How many majors are predominantly male? Predominantly female?\n",
        " * Using histograms\n",
        "* Which category of majors have the most students?\n",
        "  * Using bar plots\n",
        "\n",
        "\n",
        "\n",
        "\n",
        "\n"
      ]
    },
    {
      "cell_type": "markdown",
      "metadata": {
        "id": "etsa1ujwQ5zG",
        "colab_type": "text"
      },
      "source": [
        "## Extract and Load data onto a dataframe"
      ]
    },
    {
      "cell_type": "code",
      "metadata": {
        "id": "6m3moZuRM_LC",
        "colab_type": "code",
        "colab": {}
      },
      "source": [
        "import matplotlib as plt\n",
        "import pandas as pd\n",
        "\n"
      ],
      "execution_count": 0,
      "outputs": []
    },
    {
      "cell_type": "code",
      "metadata": {
        "id": "HoXKaLS6NI3Q",
        "colab_type": "code",
        "colab": {}
      },
      "source": [
        "%matplotlib inline"
      ],
      "execution_count": 0,
      "outputs": []
    },
    {
      "cell_type": "code",
      "metadata": {
        "id": "-ULa06QwNN0a",
        "colab_type": "code",
        "colab": {}
      },
      "source": [
        "from google.colab import drive\n",
        "drive.mount('/content/drive')"
      ],
      "execution_count": 0,
      "outputs": []
    },
    {
      "cell_type": "code",
      "metadata": {
        "id": "amRijMulNgK7",
        "colab_type": "code",
        "colab": {}
      },
      "source": [
        "recent_grads = pd.read_csv(\"/content/college_data/recent-grads.csv\")"
      ],
      "execution_count": 0,
      "outputs": []
    },
    {
      "cell_type": "markdown",
      "metadata": {
        "id": "tTqrt-AQRAgS",
        "colab_type": "text"
      },
      "source": [
        "## Explore data"
      ]
    },
    {
      "cell_type": "code",
      "metadata": {
        "id": "pSae6ZejOQhI",
        "colab_type": "code",
        "colab": {
          "base_uri": "https://localhost:8080/",
          "height": 391
        },
        "outputId": "fe231640-8977-495b-c835-7b5308f56352"
      },
      "source": [
        "recent_grads.iloc[0]"
      ],
      "execution_count": 6,
      "outputs": [
        {
          "output_type": "execute_result",
          "data": {
            "text/plain": [
              "Rank                                        1\n",
              "Major_code                               2419\n",
              "Major                   PETROLEUM ENGINEERING\n",
              "Total                                    2339\n",
              "Men                                      2057\n",
              "Women                                     282\n",
              "Major_category                    Engineering\n",
              "ShareWomen                           0.120564\n",
              "Sample_size                                36\n",
              "Employed                                 1976\n",
              "Full_time                                1849\n",
              "Part_time                                 270\n",
              "Full_time_year_round                     1207\n",
              "Unemployed                                 37\n",
              "Unemployment_rate                   0.0183805\n",
              "Median                                 110000\n",
              "P25th                                   95000\n",
              "P75th                                  125000\n",
              "College_jobs                             1534\n",
              "Non_college_jobs                          364\n",
              "Low_wage_jobs                             193\n",
              "Name: 0, dtype: object"
            ]
          },
          "metadata": {
            "tags": []
          },
          "execution_count": 6
        }
      ]
    },
    {
      "cell_type": "code",
      "metadata": {
        "id": "GH00ShqMOYSX",
        "colab_type": "code",
        "colab": {
          "base_uri": "https://localhost:8080/",
          "height": 360
        },
        "outputId": "f49d129f-5b37-48aa-de11-7cb595b563e6"
      },
      "source": [
        "recent_grads.head()"
      ],
      "execution_count": 7,
      "outputs": [
        {
          "output_type": "execute_result",
          "data": {
            "text/html": [
              "<div>\n",
              "<style scoped>\n",
              "    .dataframe tbody tr th:only-of-type {\n",
              "        vertical-align: middle;\n",
              "    }\n",
              "\n",
              "    .dataframe tbody tr th {\n",
              "        vertical-align: top;\n",
              "    }\n",
              "\n",
              "    .dataframe thead th {\n",
              "        text-align: right;\n",
              "    }\n",
              "</style>\n",
              "<table border=\"1\" class=\"dataframe\">\n",
              "  <thead>\n",
              "    <tr style=\"text-align: right;\">\n",
              "      <th></th>\n",
              "      <th>Rank</th>\n",
              "      <th>Major_code</th>\n",
              "      <th>Major</th>\n",
              "      <th>Total</th>\n",
              "      <th>Men</th>\n",
              "      <th>Women</th>\n",
              "      <th>Major_category</th>\n",
              "      <th>ShareWomen</th>\n",
              "      <th>Sample_size</th>\n",
              "      <th>Employed</th>\n",
              "      <th>Full_time</th>\n",
              "      <th>Part_time</th>\n",
              "      <th>Full_time_year_round</th>\n",
              "      <th>Unemployed</th>\n",
              "      <th>Unemployment_rate</th>\n",
              "      <th>Median</th>\n",
              "      <th>P25th</th>\n",
              "      <th>P75th</th>\n",
              "      <th>College_jobs</th>\n",
              "      <th>Non_college_jobs</th>\n",
              "      <th>Low_wage_jobs</th>\n",
              "    </tr>\n",
              "  </thead>\n",
              "  <tbody>\n",
              "    <tr>\n",
              "      <th>0</th>\n",
              "      <td>1</td>\n",
              "      <td>2419</td>\n",
              "      <td>PETROLEUM ENGINEERING</td>\n",
              "      <td>2339.0</td>\n",
              "      <td>2057.0</td>\n",
              "      <td>282.0</td>\n",
              "      <td>Engineering</td>\n",
              "      <td>0.120564</td>\n",
              "      <td>36</td>\n",
              "      <td>1976</td>\n",
              "      <td>1849</td>\n",
              "      <td>270</td>\n",
              "      <td>1207</td>\n",
              "      <td>37</td>\n",
              "      <td>0.018381</td>\n",
              "      <td>110000</td>\n",
              "      <td>95000</td>\n",
              "      <td>125000</td>\n",
              "      <td>1534</td>\n",
              "      <td>364</td>\n",
              "      <td>193</td>\n",
              "    </tr>\n",
              "    <tr>\n",
              "      <th>1</th>\n",
              "      <td>2</td>\n",
              "      <td>2416</td>\n",
              "      <td>MINING AND MINERAL ENGINEERING</td>\n",
              "      <td>756.0</td>\n",
              "      <td>679.0</td>\n",
              "      <td>77.0</td>\n",
              "      <td>Engineering</td>\n",
              "      <td>0.101852</td>\n",
              "      <td>7</td>\n",
              "      <td>640</td>\n",
              "      <td>556</td>\n",
              "      <td>170</td>\n",
              "      <td>388</td>\n",
              "      <td>85</td>\n",
              "      <td>0.117241</td>\n",
              "      <td>75000</td>\n",
              "      <td>55000</td>\n",
              "      <td>90000</td>\n",
              "      <td>350</td>\n",
              "      <td>257</td>\n",
              "      <td>50</td>\n",
              "    </tr>\n",
              "    <tr>\n",
              "      <th>2</th>\n",
              "      <td>3</td>\n",
              "      <td>2415</td>\n",
              "      <td>METALLURGICAL ENGINEERING</td>\n",
              "      <td>856.0</td>\n",
              "      <td>725.0</td>\n",
              "      <td>131.0</td>\n",
              "      <td>Engineering</td>\n",
              "      <td>0.153037</td>\n",
              "      <td>3</td>\n",
              "      <td>648</td>\n",
              "      <td>558</td>\n",
              "      <td>133</td>\n",
              "      <td>340</td>\n",
              "      <td>16</td>\n",
              "      <td>0.024096</td>\n",
              "      <td>73000</td>\n",
              "      <td>50000</td>\n",
              "      <td>105000</td>\n",
              "      <td>456</td>\n",
              "      <td>176</td>\n",
              "      <td>0</td>\n",
              "    </tr>\n",
              "    <tr>\n",
              "      <th>3</th>\n",
              "      <td>4</td>\n",
              "      <td>2417</td>\n",
              "      <td>NAVAL ARCHITECTURE AND MARINE ENGINEERING</td>\n",
              "      <td>1258.0</td>\n",
              "      <td>1123.0</td>\n",
              "      <td>135.0</td>\n",
              "      <td>Engineering</td>\n",
              "      <td>0.107313</td>\n",
              "      <td>16</td>\n",
              "      <td>758</td>\n",
              "      <td>1069</td>\n",
              "      <td>150</td>\n",
              "      <td>692</td>\n",
              "      <td>40</td>\n",
              "      <td>0.050125</td>\n",
              "      <td>70000</td>\n",
              "      <td>43000</td>\n",
              "      <td>80000</td>\n",
              "      <td>529</td>\n",
              "      <td>102</td>\n",
              "      <td>0</td>\n",
              "    </tr>\n",
              "    <tr>\n",
              "      <th>4</th>\n",
              "      <td>5</td>\n",
              "      <td>2405</td>\n",
              "      <td>CHEMICAL ENGINEERING</td>\n",
              "      <td>32260.0</td>\n",
              "      <td>21239.0</td>\n",
              "      <td>11021.0</td>\n",
              "      <td>Engineering</td>\n",
              "      <td>0.341631</td>\n",
              "      <td>289</td>\n",
              "      <td>25694</td>\n",
              "      <td>23170</td>\n",
              "      <td>5180</td>\n",
              "      <td>16697</td>\n",
              "      <td>1672</td>\n",
              "      <td>0.061098</td>\n",
              "      <td>65000</td>\n",
              "      <td>50000</td>\n",
              "      <td>75000</td>\n",
              "      <td>18314</td>\n",
              "      <td>4440</td>\n",
              "      <td>972</td>\n",
              "    </tr>\n",
              "  </tbody>\n",
              "</table>\n",
              "</div>"
            ],
            "text/plain": [
              "   Rank  Major_code  ... Non_college_jobs  Low_wage_jobs\n",
              "0     1        2419  ...              364            193\n",
              "1     2        2416  ...              257             50\n",
              "2     3        2415  ...              176              0\n",
              "3     4        2417  ...              102              0\n",
              "4     5        2405  ...             4440            972\n",
              "\n",
              "[5 rows x 21 columns]"
            ]
          },
          "metadata": {
            "tags": []
          },
          "execution_count": 7
        }
      ]
    },
    {
      "cell_type": "code",
      "metadata": {
        "id": "LFrpNREbOeG8",
        "colab_type": "code",
        "colab": {
          "base_uri": "https://localhost:8080/",
          "height": 309
        },
        "outputId": "425204b2-5646-4208-c745-35621bcf88a4"
      },
      "source": [
        "recent_grads.tail()"
      ],
      "execution_count": 8,
      "outputs": [
        {
          "output_type": "execute_result",
          "data": {
            "text/html": [
              "<div>\n",
              "<style scoped>\n",
              "    .dataframe tbody tr th:only-of-type {\n",
              "        vertical-align: middle;\n",
              "    }\n",
              "\n",
              "    .dataframe tbody tr th {\n",
              "        vertical-align: top;\n",
              "    }\n",
              "\n",
              "    .dataframe thead th {\n",
              "        text-align: right;\n",
              "    }\n",
              "</style>\n",
              "<table border=\"1\" class=\"dataframe\">\n",
              "  <thead>\n",
              "    <tr style=\"text-align: right;\">\n",
              "      <th></th>\n",
              "      <th>Rank</th>\n",
              "      <th>Major_code</th>\n",
              "      <th>Major</th>\n",
              "      <th>Total</th>\n",
              "      <th>Men</th>\n",
              "      <th>Women</th>\n",
              "      <th>Major_category</th>\n",
              "      <th>ShareWomen</th>\n",
              "      <th>Sample_size</th>\n",
              "      <th>Employed</th>\n",
              "      <th>Full_time</th>\n",
              "      <th>Part_time</th>\n",
              "      <th>Full_time_year_round</th>\n",
              "      <th>Unemployed</th>\n",
              "      <th>Unemployment_rate</th>\n",
              "      <th>Median</th>\n",
              "      <th>P25th</th>\n",
              "      <th>P75th</th>\n",
              "      <th>College_jobs</th>\n",
              "      <th>Non_college_jobs</th>\n",
              "      <th>Low_wage_jobs</th>\n",
              "    </tr>\n",
              "  </thead>\n",
              "  <tbody>\n",
              "    <tr>\n",
              "      <th>168</th>\n",
              "      <td>169</td>\n",
              "      <td>3609</td>\n",
              "      <td>ZOOLOGY</td>\n",
              "      <td>8409.0</td>\n",
              "      <td>3050.0</td>\n",
              "      <td>5359.0</td>\n",
              "      <td>Biology &amp; Life Science</td>\n",
              "      <td>0.637293</td>\n",
              "      <td>47</td>\n",
              "      <td>6259</td>\n",
              "      <td>5043</td>\n",
              "      <td>2190</td>\n",
              "      <td>3602</td>\n",
              "      <td>304</td>\n",
              "      <td>0.046320</td>\n",
              "      <td>26000</td>\n",
              "      <td>20000</td>\n",
              "      <td>39000</td>\n",
              "      <td>2771</td>\n",
              "      <td>2947</td>\n",
              "      <td>743</td>\n",
              "    </tr>\n",
              "    <tr>\n",
              "      <th>169</th>\n",
              "      <td>170</td>\n",
              "      <td>5201</td>\n",
              "      <td>EDUCATIONAL PSYCHOLOGY</td>\n",
              "      <td>2854.0</td>\n",
              "      <td>522.0</td>\n",
              "      <td>2332.0</td>\n",
              "      <td>Psychology &amp; Social Work</td>\n",
              "      <td>0.817099</td>\n",
              "      <td>7</td>\n",
              "      <td>2125</td>\n",
              "      <td>1848</td>\n",
              "      <td>572</td>\n",
              "      <td>1211</td>\n",
              "      <td>148</td>\n",
              "      <td>0.065112</td>\n",
              "      <td>25000</td>\n",
              "      <td>24000</td>\n",
              "      <td>34000</td>\n",
              "      <td>1488</td>\n",
              "      <td>615</td>\n",
              "      <td>82</td>\n",
              "    </tr>\n",
              "    <tr>\n",
              "      <th>170</th>\n",
              "      <td>171</td>\n",
              "      <td>5202</td>\n",
              "      <td>CLINICAL PSYCHOLOGY</td>\n",
              "      <td>2838.0</td>\n",
              "      <td>568.0</td>\n",
              "      <td>2270.0</td>\n",
              "      <td>Psychology &amp; Social Work</td>\n",
              "      <td>0.799859</td>\n",
              "      <td>13</td>\n",
              "      <td>2101</td>\n",
              "      <td>1724</td>\n",
              "      <td>648</td>\n",
              "      <td>1293</td>\n",
              "      <td>368</td>\n",
              "      <td>0.149048</td>\n",
              "      <td>25000</td>\n",
              "      <td>25000</td>\n",
              "      <td>40000</td>\n",
              "      <td>986</td>\n",
              "      <td>870</td>\n",
              "      <td>622</td>\n",
              "    </tr>\n",
              "    <tr>\n",
              "      <th>171</th>\n",
              "      <td>172</td>\n",
              "      <td>5203</td>\n",
              "      <td>COUNSELING PSYCHOLOGY</td>\n",
              "      <td>4626.0</td>\n",
              "      <td>931.0</td>\n",
              "      <td>3695.0</td>\n",
              "      <td>Psychology &amp; Social Work</td>\n",
              "      <td>0.798746</td>\n",
              "      <td>21</td>\n",
              "      <td>3777</td>\n",
              "      <td>3154</td>\n",
              "      <td>965</td>\n",
              "      <td>2738</td>\n",
              "      <td>214</td>\n",
              "      <td>0.053621</td>\n",
              "      <td>23400</td>\n",
              "      <td>19200</td>\n",
              "      <td>26000</td>\n",
              "      <td>2403</td>\n",
              "      <td>1245</td>\n",
              "      <td>308</td>\n",
              "    </tr>\n",
              "    <tr>\n",
              "      <th>172</th>\n",
              "      <td>173</td>\n",
              "      <td>3501</td>\n",
              "      <td>LIBRARY SCIENCE</td>\n",
              "      <td>1098.0</td>\n",
              "      <td>134.0</td>\n",
              "      <td>964.0</td>\n",
              "      <td>Education</td>\n",
              "      <td>0.877960</td>\n",
              "      <td>2</td>\n",
              "      <td>742</td>\n",
              "      <td>593</td>\n",
              "      <td>237</td>\n",
              "      <td>410</td>\n",
              "      <td>87</td>\n",
              "      <td>0.104946</td>\n",
              "      <td>22000</td>\n",
              "      <td>20000</td>\n",
              "      <td>22000</td>\n",
              "      <td>288</td>\n",
              "      <td>338</td>\n",
              "      <td>192</td>\n",
              "    </tr>\n",
              "  </tbody>\n",
              "</table>\n",
              "</div>"
            ],
            "text/plain": [
              "     Rank  Major_code  ... Non_college_jobs  Low_wage_jobs\n",
              "168   169        3609  ...             2947            743\n",
              "169   170        5201  ...              615             82\n",
              "170   171        5202  ...              870            622\n",
              "171   172        5203  ...             1245            308\n",
              "172   173        3501  ...              338            192\n",
              "\n",
              "[5 rows x 21 columns]"
            ]
          },
          "metadata": {
            "tags": []
          },
          "execution_count": 8
        }
      ]
    },
    {
      "cell_type": "code",
      "metadata": {
        "id": "jz-7390wOjwz",
        "colab_type": "code",
        "colab": {
          "base_uri": "https://localhost:8080/",
          "height": 317
        },
        "outputId": "b14e64fa-588d-468c-fe68-5d6723a7fd46"
      },
      "source": [
        "recent_grads.describe()"
      ],
      "execution_count": 9,
      "outputs": [
        {
          "output_type": "execute_result",
          "data": {
            "text/html": [
              "<div>\n",
              "<style scoped>\n",
              "    .dataframe tbody tr th:only-of-type {\n",
              "        vertical-align: middle;\n",
              "    }\n",
              "\n",
              "    .dataframe tbody tr th {\n",
              "        vertical-align: top;\n",
              "    }\n",
              "\n",
              "    .dataframe thead th {\n",
              "        text-align: right;\n",
              "    }\n",
              "</style>\n",
              "<table border=\"1\" class=\"dataframe\">\n",
              "  <thead>\n",
              "    <tr style=\"text-align: right;\">\n",
              "      <th></th>\n",
              "      <th>Rank</th>\n",
              "      <th>Major_code</th>\n",
              "      <th>Total</th>\n",
              "      <th>Men</th>\n",
              "      <th>Women</th>\n",
              "      <th>ShareWomen</th>\n",
              "      <th>Sample_size</th>\n",
              "      <th>Employed</th>\n",
              "      <th>Full_time</th>\n",
              "      <th>Part_time</th>\n",
              "      <th>Full_time_year_round</th>\n",
              "      <th>Unemployed</th>\n",
              "      <th>Unemployment_rate</th>\n",
              "      <th>Median</th>\n",
              "      <th>P25th</th>\n",
              "      <th>P75th</th>\n",
              "      <th>College_jobs</th>\n",
              "      <th>Non_college_jobs</th>\n",
              "      <th>Low_wage_jobs</th>\n",
              "    </tr>\n",
              "  </thead>\n",
              "  <tbody>\n",
              "    <tr>\n",
              "      <th>count</th>\n",
              "      <td>173.000000</td>\n",
              "      <td>173.000000</td>\n",
              "      <td>172.000000</td>\n",
              "      <td>172.000000</td>\n",
              "      <td>172.000000</td>\n",
              "      <td>172.000000</td>\n",
              "      <td>173.000000</td>\n",
              "      <td>173.000000</td>\n",
              "      <td>173.000000</td>\n",
              "      <td>173.000000</td>\n",
              "      <td>173.000000</td>\n",
              "      <td>173.000000</td>\n",
              "      <td>173.000000</td>\n",
              "      <td>173.000000</td>\n",
              "      <td>173.000000</td>\n",
              "      <td>173.000000</td>\n",
              "      <td>173.000000</td>\n",
              "      <td>173.000000</td>\n",
              "      <td>173.000000</td>\n",
              "    </tr>\n",
              "    <tr>\n",
              "      <th>mean</th>\n",
              "      <td>87.000000</td>\n",
              "      <td>3879.815029</td>\n",
              "      <td>39370.081395</td>\n",
              "      <td>16723.406977</td>\n",
              "      <td>22646.674419</td>\n",
              "      <td>0.522223</td>\n",
              "      <td>356.080925</td>\n",
              "      <td>31192.763006</td>\n",
              "      <td>26029.306358</td>\n",
              "      <td>8832.398844</td>\n",
              "      <td>19694.427746</td>\n",
              "      <td>2416.329480</td>\n",
              "      <td>0.068191</td>\n",
              "      <td>40151.445087</td>\n",
              "      <td>29501.445087</td>\n",
              "      <td>51494.219653</td>\n",
              "      <td>12322.635838</td>\n",
              "      <td>13284.497110</td>\n",
              "      <td>3859.017341</td>\n",
              "    </tr>\n",
              "    <tr>\n",
              "      <th>std</th>\n",
              "      <td>50.084928</td>\n",
              "      <td>1687.753140</td>\n",
              "      <td>63483.491009</td>\n",
              "      <td>28122.433474</td>\n",
              "      <td>41057.330740</td>\n",
              "      <td>0.231205</td>\n",
              "      <td>618.361022</td>\n",
              "      <td>50675.002241</td>\n",
              "      <td>42869.655092</td>\n",
              "      <td>14648.179473</td>\n",
              "      <td>33160.941514</td>\n",
              "      <td>4112.803148</td>\n",
              "      <td>0.030331</td>\n",
              "      <td>11470.181802</td>\n",
              "      <td>9166.005235</td>\n",
              "      <td>14906.279740</td>\n",
              "      <td>21299.868863</td>\n",
              "      <td>23789.655363</td>\n",
              "      <td>6944.998579</td>\n",
              "    </tr>\n",
              "    <tr>\n",
              "      <th>min</th>\n",
              "      <td>1.000000</td>\n",
              "      <td>1100.000000</td>\n",
              "      <td>124.000000</td>\n",
              "      <td>119.000000</td>\n",
              "      <td>0.000000</td>\n",
              "      <td>0.000000</td>\n",
              "      <td>2.000000</td>\n",
              "      <td>0.000000</td>\n",
              "      <td>111.000000</td>\n",
              "      <td>0.000000</td>\n",
              "      <td>111.000000</td>\n",
              "      <td>0.000000</td>\n",
              "      <td>0.000000</td>\n",
              "      <td>22000.000000</td>\n",
              "      <td>18500.000000</td>\n",
              "      <td>22000.000000</td>\n",
              "      <td>0.000000</td>\n",
              "      <td>0.000000</td>\n",
              "      <td>0.000000</td>\n",
              "    </tr>\n",
              "    <tr>\n",
              "      <th>25%</th>\n",
              "      <td>44.000000</td>\n",
              "      <td>2403.000000</td>\n",
              "      <td>4549.750000</td>\n",
              "      <td>2177.500000</td>\n",
              "      <td>1778.250000</td>\n",
              "      <td>0.336026</td>\n",
              "      <td>39.000000</td>\n",
              "      <td>3608.000000</td>\n",
              "      <td>3154.000000</td>\n",
              "      <td>1030.000000</td>\n",
              "      <td>2453.000000</td>\n",
              "      <td>304.000000</td>\n",
              "      <td>0.050306</td>\n",
              "      <td>33000.000000</td>\n",
              "      <td>24000.000000</td>\n",
              "      <td>42000.000000</td>\n",
              "      <td>1675.000000</td>\n",
              "      <td>1591.000000</td>\n",
              "      <td>340.000000</td>\n",
              "    </tr>\n",
              "    <tr>\n",
              "      <th>50%</th>\n",
              "      <td>87.000000</td>\n",
              "      <td>3608.000000</td>\n",
              "      <td>15104.000000</td>\n",
              "      <td>5434.000000</td>\n",
              "      <td>8386.500000</td>\n",
              "      <td>0.534024</td>\n",
              "      <td>130.000000</td>\n",
              "      <td>11797.000000</td>\n",
              "      <td>10048.000000</td>\n",
              "      <td>3299.000000</td>\n",
              "      <td>7413.000000</td>\n",
              "      <td>893.000000</td>\n",
              "      <td>0.067961</td>\n",
              "      <td>36000.000000</td>\n",
              "      <td>27000.000000</td>\n",
              "      <td>47000.000000</td>\n",
              "      <td>4390.000000</td>\n",
              "      <td>4595.000000</td>\n",
              "      <td>1231.000000</td>\n",
              "    </tr>\n",
              "    <tr>\n",
              "      <th>75%</th>\n",
              "      <td>130.000000</td>\n",
              "      <td>5503.000000</td>\n",
              "      <td>38909.750000</td>\n",
              "      <td>14631.000000</td>\n",
              "      <td>22553.750000</td>\n",
              "      <td>0.703299</td>\n",
              "      <td>338.000000</td>\n",
              "      <td>31433.000000</td>\n",
              "      <td>25147.000000</td>\n",
              "      <td>9948.000000</td>\n",
              "      <td>16891.000000</td>\n",
              "      <td>2393.000000</td>\n",
              "      <td>0.087557</td>\n",
              "      <td>45000.000000</td>\n",
              "      <td>33000.000000</td>\n",
              "      <td>60000.000000</td>\n",
              "      <td>14444.000000</td>\n",
              "      <td>11783.000000</td>\n",
              "      <td>3466.000000</td>\n",
              "    </tr>\n",
              "    <tr>\n",
              "      <th>max</th>\n",
              "      <td>173.000000</td>\n",
              "      <td>6403.000000</td>\n",
              "      <td>393735.000000</td>\n",
              "      <td>173809.000000</td>\n",
              "      <td>307087.000000</td>\n",
              "      <td>0.968954</td>\n",
              "      <td>4212.000000</td>\n",
              "      <td>307933.000000</td>\n",
              "      <td>251540.000000</td>\n",
              "      <td>115172.000000</td>\n",
              "      <td>199897.000000</td>\n",
              "      <td>28169.000000</td>\n",
              "      <td>0.177226</td>\n",
              "      <td>110000.000000</td>\n",
              "      <td>95000.000000</td>\n",
              "      <td>125000.000000</td>\n",
              "      <td>151643.000000</td>\n",
              "      <td>148395.000000</td>\n",
              "      <td>48207.000000</td>\n",
              "    </tr>\n",
              "  </tbody>\n",
              "</table>\n",
              "</div>"
            ],
            "text/plain": [
              "             Rank   Major_code  ...  Non_college_jobs  Low_wage_jobs\n",
              "count  173.000000   173.000000  ...        173.000000     173.000000\n",
              "mean    87.000000  3879.815029  ...      13284.497110    3859.017341\n",
              "std     50.084928  1687.753140  ...      23789.655363    6944.998579\n",
              "min      1.000000  1100.000000  ...          0.000000       0.000000\n",
              "25%     44.000000  2403.000000  ...       1591.000000     340.000000\n",
              "50%     87.000000  3608.000000  ...       4595.000000    1231.000000\n",
              "75%    130.000000  5503.000000  ...      11783.000000    3466.000000\n",
              "max    173.000000  6403.000000  ...     148395.000000   48207.000000\n",
              "\n",
              "[8 rows x 19 columns]"
            ]
          },
          "metadata": {
            "tags": []
          },
          "execution_count": 9
        }
      ]
    },
    {
      "cell_type": "code",
      "metadata": {
        "id": "VAkK7YFePNCA",
        "colab_type": "code",
        "colab": {
          "base_uri": "https://localhost:8080/",
          "height": 459
        },
        "outputId": "9db20fba-9e9a-4fbc-e78e-94375f6691fc"
      },
      "source": [
        "recent_grads.info()"
      ],
      "execution_count": 10,
      "outputs": [
        {
          "output_type": "stream",
          "text": [
            "<class 'pandas.core.frame.DataFrame'>\n",
            "RangeIndex: 173 entries, 0 to 172\n",
            "Data columns (total 21 columns):\n",
            "Rank                    173 non-null int64\n",
            "Major_code              173 non-null int64\n",
            "Major                   173 non-null object\n",
            "Total                   172 non-null float64\n",
            "Men                     172 non-null float64\n",
            "Women                   172 non-null float64\n",
            "Major_category          173 non-null object\n",
            "ShareWomen              172 non-null float64\n",
            "Sample_size             173 non-null int64\n",
            "Employed                173 non-null int64\n",
            "Full_time               173 non-null int64\n",
            "Part_time               173 non-null int64\n",
            "Full_time_year_round    173 non-null int64\n",
            "Unemployed              173 non-null int64\n",
            "Unemployment_rate       173 non-null float64\n",
            "Median                  173 non-null int64\n",
            "P25th                   173 non-null int64\n",
            "P75th                   173 non-null int64\n",
            "College_jobs            173 non-null int64\n",
            "Non_college_jobs        173 non-null int64\n",
            "Low_wage_jobs           173 non-null int64\n",
            "dtypes: float64(5), int64(14), object(2)\n",
            "memory usage: 28.5+ KB\n"
          ],
          "name": "stdout"
        }
      ]
    },
    {
      "cell_type": "markdown",
      "metadata": {
        "id": "kgaINoWtRLeE",
        "colab_type": "text"
      },
      "source": [
        "## Remove missing data"
      ]
    },
    {
      "cell_type": "code",
      "metadata": {
        "id": "qwxGNcrWRPy0",
        "colab_type": "code",
        "colab": {
          "base_uri": "https://localhost:8080/",
          "height": 34
        },
        "outputId": "90bece56-4f71-48f7-c990-c1bfa9e77cc9"
      },
      "source": [
        "recent_grads.shape[0]"
      ],
      "execution_count": 12,
      "outputs": [
        {
          "output_type": "execute_result",
          "data": {
            "text/plain": [
              "173"
            ]
          },
          "metadata": {
            "tags": []
          },
          "execution_count": 12
        }
      ]
    },
    {
      "cell_type": "code",
      "metadata": {
        "id": "TY2jkxo_RY45",
        "colab_type": "code",
        "colab": {}
      },
      "source": [
        "recent_grads = recent_grads.dropna()"
      ],
      "execution_count": 0,
      "outputs": []
    },
    {
      "cell_type": "markdown",
      "metadata": {
        "id": "2y0LtrI7Rfdn",
        "colab_type": "text"
      },
      "source": [
        "After removing null values let us check the number of rows."
      ]
    },
    {
      "cell_type": "code",
      "metadata": {
        "id": "v9MEC75cRkSy",
        "colab_type": "code",
        "colab": {
          "base_uri": "https://localhost:8080/",
          "height": 34
        },
        "outputId": "b737cdd0-d2ba-4b41-b0c9-647fe7a93cb5"
      },
      "source": [
        "recent_grads.shape[0]"
      ],
      "execution_count": 14,
      "outputs": [
        {
          "output_type": "execute_result",
          "data": {
            "text/plain": [
              "172"
            ]
          },
          "metadata": {
            "tags": []
          },
          "execution_count": 14
        }
      ]
    },
    {
      "cell_type": "markdown",
      "metadata": {
        "id": "zFsqcuO3RsG0",
        "colab_type": "text"
      },
      "source": [
        "Only 1 row contained missing values"
      ]
    },
    {
      "cell_type": "markdown",
      "metadata": {
        "id": "MwSkZvynSZF1",
        "colab_type": "text"
      },
      "source": [
        "## Visualize using Scatterplots\n",
        "\n",
        "Let us generate scatterplots to study various relations between the columns"
      ]
    },
    {
      "cell_type": "code",
      "metadata": {
        "id": "EJEdReHzSd4Z",
        "colab_type": "code",
        "colab": {
          "base_uri": "https://localhost:8080/",
          "height": 313
        },
        "outputId": "dd8d0932-6f43-46c7-f2ae-6b6f32d22605"
      },
      "source": [
        "recent_grads.plot(x='Sample_size', y='Median', kind='scatter', title='Median vs. Sample_size')"
      ],
      "execution_count": 16,
      "outputs": [
        {
          "output_type": "execute_result",
          "data": {
            "text/plain": [
              "<matplotlib.axes._subplots.AxesSubplot at 0x7f3e1fe5aba8>"
            ]
          },
          "metadata": {
            "tags": []
          },
          "execution_count": 16
        },
        {
          "output_type": "display_data",
          "data": {
            "image/png": "[encoded data removed]",
            "text/plain": [
              "<Figure size 432x288 with 1 Axes>"
            ]
          },
          "metadata": {
            "tags": []
          }
        }
      ]
    }
  ]
}